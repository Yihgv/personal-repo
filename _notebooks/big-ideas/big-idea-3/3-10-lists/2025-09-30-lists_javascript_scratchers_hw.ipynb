{
 "cells": [
  {
   "cell_type": "raw",
   "id": "cae8bc40",
   "metadata": {
    "vscode": {
     "languageId": "raw"
    }
   },
   "source": [
    "---\n",
    "layout: post\n",
    "title: Lists Hacks Javascript\n",
    "description: This is a CSP Hacks notebook based on the lists lesson\n",
    "comments: true\n",
    "permalink: /csp/big-idea-3/<lists>/<4>/javascript_hw\n",
    "---"
   ]
  },
  {
   "cell_type": "markdown",
   "id": "44bdd529",
   "metadata": {},
   "source": [
    "# Javascript Lists Homework\n"
   ]
  },
  {
   "cell_type": "markdown",
   "id": "6a975112",
   "metadata": {},
   "source": [
    "- After going through the lists lesson work on these hacks in your own repository\n"
   ]
  },
  {
   "cell_type": "markdown",
   "id": "4b1ccc5c",
   "metadata": {},
   "source": [
    "### Hack 1 – Add Up Numbers\n",
    "\n",
    "Make a list of numbers. Write code to:\n",
    "\n",
    "1. Find the total sum.\n",
    "2. Find the average.\n"
   ]
  },
  {
   "cell_type": "code",
   "execution_count": null,
   "id": "9fc29a1a",
   "metadata": {
    "vscode": {
     "languageId": "javascript"
    }
   },
   "outputs": [],
   "source": [
    "// Hack 1 – Add Up Numbers\n",
    "// let numbers = [4, 7, 1, 9, 6, 7, 10];\n",
    "\n",
    "let totalSum = 0;\n",
    "for (let i = 0; i < numbers.length; i++) {\n",
    "    totalSum += numbers[i];\n",
    "}\n",
    "console.log(\"Total sum:\", totalSum);\n",
    "\n",
    "// 2️⃣ Find the average\n",
    "let average = totalSum / numbers.length;\n",
    "console.log(\"Average:\", average);\n"
   ]
  },
  {
   "cell_type": "markdown",
   "id": "519b9811",
   "metadata": {},
   "source": [
    "### Hack 2 – Count Repeats\n",
    "\n",
    "Make a list with repeated items. Write code to count how many times each item appears.\n"
   ]
  },
  {
   "cell_type": "code",
   "execution_count": null,
   "id": "b9e989ea",
   "metadata": {
    "vscode": {
     "languageId": "javascript"
    }
   },
   "outputs": [],
   "source": [
    "// Hack 2 – Count Repeats\n",
    "let items = [\"cat\", \"dog\", \"cat\", \"bird\", \"bird\", \"bird\"];\n",
    "\n",
    "// Create an object to store counts\n",
    "let counts = {};\n",
    "\n",
    "// Loop through the items\n",
    "for (let i = 0; i < items.length; i++) {\n",
    "    let item = items[i];\n",
    "    if (counts[item]) {\n",
    "        counts[item] += 1;  // Increment existing count\n",
    "    } else {\n",
    "        counts[item] = 1;   // Initialize count\n",
    "    }\n",
    "}\n",
    "\n",
    "// Display the results\n",
    "console.log(\"Item counts:\");\n",
    "for (let key in counts) {\n",
    "    console.log(`${key}: ${counts[key]}`);\n",
    "}\n"
   ]
  },
  {
   "cell_type": "markdown",
   "id": "800ed729",
   "metadata": {},
   "source": [
    "### Hack 3 – Keep Only Evens\n",
    "\n",
    "Make a list of numbers. Write code to create a new list with only even numbers.\n"
   ]
  },
  {
   "cell_type": "code",
   "execution_count": null,
   "id": "4f7fc860",
   "metadata": {
    "vscode": {
     "languageId": "javascript"
    }
   },
   "outputs": [],
   "source": [
    "// Hack 3 – Keep Only Evens\n",
    "let numbers = [3, 8, 5, 12, 7, 9, 13, 31, 66, 18];\n",
    "\n",
    "// Create a new array to store even numbers\n",
    "let evens = [];\n",
    "\n",
    "// Loop through the numbers\n",
    "for (let i = 0; i < numbers.length; i++) {\n",
    "    if (numbers[i] % 2 === 0) {  // Check if the number is even\n",
    "        evens.push(numbers[i]);\n",
    "    }\n",
    "}\n",
    "\n",
    "// Display the results\n",
    "console.log(\"Even numbers:\", evens);\n"
   ]
  }
 ],
 "metadata": {
  "language_info": {
   "name": "python"
  }
 },
 "nbformat": 4,
 "nbformat_minor": 5
}
