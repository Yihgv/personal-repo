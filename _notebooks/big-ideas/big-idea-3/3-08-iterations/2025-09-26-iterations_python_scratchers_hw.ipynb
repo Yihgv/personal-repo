{
 "cells": [
  {
   "cell_type": "raw",
   "id": "ad53e79b",
   "metadata": {
    "vscode": {
     "languageId": "raw"
    }
   },
   "source": [
    "---\n",
    "layout: base\n",
    "title: Python Homework Iterations\n",
    "description: Homework for Iterations lesson in Python\n",
    "toc: False\n",
    "comments: False\n",
    "permalink: /csp/big-idea-3/scratchers/iterations/python_hw\n",
    "comments: true\n",
    "---"
   ]
  },
  {
   "cell_type": "markdown",
   "id": "fe32c2f4",
   "metadata": {},
   "source": [
    "## 3.8 Iterations Homework in Python\n",
    "\n",
    "Complete the 4 hacks down below as homework:\n",
    "\n",
    "1. Uncomment the base code so that you can work on adding what you need to produce the correct outputs\n",
    "2. Make sure you connect too the python kernal to display an output\n",
    "3. Some questions require you to fill in the blanks. Beware of the '\\_' that you need to delete and replace with numbers or words\n",
    "4. Make sure everything is re-indented properly before you run the code in the notebook\n",
    "5. Have fun!\n"
   ]
  },
  {
   "cell_type": "markdown",
   "id": "ca4cead6",
   "metadata": {},
   "source": [
    "### Hack #1: Write a for loop that prints the numbers 1 through 10.\n"
   ]
  },
  {
   "cell_type": "code",
   "execution_count": 6,
   "id": "f03bad4e",
   "metadata": {},
   "outputs": [
    {
     "name": "stdout",
     "output_type": "stream",
     "text": [
      "i is 1\n",
      "i is 2\n",
      "i is 3\n",
      "i is 4\n",
      "i is 5\n",
      "i is 6\n",
      "i is 7\n",
      "i is 8\n",
      "i is 9\n",
      "i is 10\n"
     ]
    }
   ],
   "source": [
    " for i in range(1,11):\n",
    "   print('i is', i)"
   ]
  },
  {
   "cell_type": "markdown",
   "id": "b6fed8d9",
   "metadata": {},
   "source": [
    "### Hack #2: Write a while loop that prints the even numbers between 2 and 20.\n"
   ]
  },
  {
   "cell_type": "markdown",
   "id": "f2c91e83",
   "metadata": {},
   "source": [
    "Hint 1 for Hack #2: You need to remember your work with math equations. (What goes before the equal sign?)\n",
    "\n",
    "Hint 2 for Hack #2: You need to remember variables. (What is the initial condition?)\n"
   ]
  },
  {
   "cell_type": "code",
   "execution_count": null,
   "id": "ec7bdf01",
   "metadata": {},
   "outputs": [],
   "source": [
    "# ___ = __\n",
    "# while num _= __:\n",
    "#   print(num)\n",
    "#   num += __"
   ]
  },
  {
   "cell_type": "markdown",
   "id": "c538af34",
   "metadata": {},
   "source": [
    "### Hack #3: Shapes! Make the following shapes using iteration loops with the symbol `*`\n"
   ]
  },
  {
   "cell_type": "markdown",
   "id": "4dad67ee",
   "metadata": {},
   "source": [
    "This might be a little challenging but think about how you need your outputs to look.\n"
   ]
  },
  {
   "cell_type": "code",
   "execution_count": null,
   "id": "55ae1549",
   "metadata": {},
   "outputs": [],
   "source": [
    "# 1. Right triangle (Don't uncomment this, they are instructions)\n",
    "# ___ i in ___(1, 6):\n",
    "#    print(\"*\" * ___)\n",
    "\n",
    "# 2. Square (5x5) (Don't uncomment this, they are instructions)\n",
    "#___ i in ___(5):\n",
    "#    print(\"*\" * ___)\n"
   ]
  },
  {
   "cell_type": "markdown",
   "id": "22645dc8",
   "metadata": {},
   "source": [
    "### Hack #4: Fruits! Choose your favorate fruits and list them using iterations\n"
   ]
  },
  {
   "cell_type": "markdown",
   "id": "e9aaadb8",
   "metadata": {},
   "source": [
    "Pick you 3 favorte fruits and list them in the blanks\n"
   ]
  },
  {
   "cell_type": "code",
   "execution_count": null,
   "id": "e58ce72a",
   "metadata": {},
   "outputs": [],
   "source": [
    "# fruits = [\"___\", \"___\", \"___\"]\n",
    "\n",
    "#for ___ in ___s:\n",
    "#    print(___)"
   ]
  },
  {
   "cell_type": "code",
   "execution_count": null,
   "id": "c524f3fb",
   "metadata": {},
   "outputs": [],
   "source": [
    "fruits = [\"apple\", \"banana\", \"cherry\"]\n",
    "\n",
    "# ___ = 0\n",
    "# while i < ___(fruits): # Hint: Loop continues as long as i is less than the length of the fruits list (The length is 3)\n",
    "#    print(fruits[___]) #` Print the fruit at index i\n",
    "#    ___ += 1"
   ]
  }
 ],
 "metadata": {
  "kernelspec": {
   "display_name": "venv",
   "language": "python",
   "name": "python3"
  },
  "language_info": {
   "codemirror_mode": {
    "name": "ipython",
    "version": 3
   },
   "file_extension": ".py",
   "mimetype": "text/x-python",
   "name": "python",
   "nbconvert_exporter": "python",
   "pygments_lexer": "ipython3",
   "version": "3.9.6"
  }
 },
 "nbformat": 4,
 "nbformat_minor": 5
}
