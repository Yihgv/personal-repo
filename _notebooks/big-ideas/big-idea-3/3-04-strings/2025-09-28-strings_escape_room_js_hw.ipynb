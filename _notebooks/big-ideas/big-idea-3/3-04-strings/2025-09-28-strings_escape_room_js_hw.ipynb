{
 "cells": [
  {
   "cell_type": "raw",
   "id": "d69f0104",
   "metadata": {
    "vscode": {
     "languageId": "raw"
    }
   },
   "source": [
    "---\n",
    "layout: post\n",
    "title: strings Homework\n",
    "description: Quick practice with strings in JavaScript.\n",
    "permalink: /javascript/strings/escape_room-hw \n",
    "Author: Cyrus S, Rishabh J.\n",
    "---"
   ]
  },
  {
   "cell_type": "code",
   "execution_count": 1,
   "id": "9087d7af",
   "metadata": {},
   "outputs": [
    {
     "name": "stdout",
     "output_type": "stream",
     "text": [
      "🎯 JavaScript String Basics - Free-Response Quiz\n",
      "Type your answers below and click Check Answers.\n",
      "\n"
     ]
    },
    {
     "data": {
      "application/vnd.jupyter.widget-view+json": {
       "model_id": "a5bf26a2b84646f8bc41c4c9a76a2b01",
       "version_major": 2,
       "version_minor": 0
      },
      "text/plain": [
       "HTML(value='<b>1. In JavaScript, which property is used to get the length of a string?</b><br><i>Answer with t…"
      ]
     },
     "metadata": {},
     "output_type": "display_data"
    },
    {
     "data": {
      "application/vnd.jupyter.widget-view+json": {
       "model_id": "5950d0e236974782b0519147ceb7f06f",
       "version_major": 2,
       "version_minor": 0
      },
      "text/plain": [
       "Text(value='length', placeholder='e.g., length or string.length')"
      ]
     },
     "metadata": {},
     "output_type": "display_data"
    },
    {
     "data": {
      "application/vnd.jupyter.widget-view+json": {
       "model_id": "c850a13150eb42eabc3db68cdea4a171",
       "version_major": 2,
       "version_minor": 0
      },
      "text/plain": [
       "HTML(value='<b>2. Which expression can concatenate two strings?</b><br><i>Type the expression or operator (e.g…"
      ]
     },
     "metadata": {},
     "output_type": "display_data"
    },
    {
     "data": {
      "application/vnd.jupyter.widget-view+json": {
       "model_id": "77be22aeeaeb4ba8b0f4bd04456a9f5a",
       "version_major": 2,
       "version_minor": 0
      },
      "text/plain": [
       "Text(value='\"Hello\" + \"World\"', placeholder='e.g., \"Hello\" + \"World\" or +')"
      ]
     },
     "metadata": {},
     "output_type": "display_data"
    },
    {
     "data": {
      "application/vnd.jupyter.widget-view+json": {
       "model_id": "244d4e78f0aa43e4bcd0c0a1eebef4cc",
       "version_major": 2,
       "version_minor": 0
      },
      "text/plain": [
       "HTML(value=\"<b>3. What does 'JavaScript'.substring(0, 4) return?</b><br><i>Type the exact substring</i>\")"
      ]
     },
     "metadata": {},
     "output_type": "display_data"
    },
    {
     "data": {
      "application/vnd.jupyter.widget-view+json": {
       "model_id": "9f43f499b81f435b9dd980c214eb3ad3",
       "version_major": 2,
       "version_minor": 0
      },
      "text/plain": [
       "Text(value='Java', placeholder='e.g., Java')"
      ]
     },
     "metadata": {},
     "output_type": "display_data"
    },
    {
     "data": {
      "application/vnd.jupyter.widget-view+json": {
       "model_id": "f8999f87f3654601bdb9fdc1b034b52b",
       "version_major": 2,
       "version_minor": 0
      },
      "text/plain": [
       "HTML(value='<b>4. Which method converts a string to uppercase?</b><br><i>Type the method name</i>')"
      ]
     },
     "metadata": {},
     "output_type": "display_data"
    },
    {
     "data": {
      "application/vnd.jupyter.widget-view+json": {
       "model_id": "c5b339521c7d41cda5e408297a485db3",
       "version_major": 2,
       "version_minor": 0
      },
      "text/plain": [
       "Text(value='toUpperCase()', placeholder='e.g., toUpperCase()')"
      ]
     },
     "metadata": {},
     "output_type": "display_data"
    },
    {
     "data": {
      "application/vnd.jupyter.widget-view+json": {
       "model_id": "9e1be012b1eb452e82c7c42f24c4fd19",
       "version_major": 2,
       "version_minor": 0
      },
      "text/plain": [
       "HTML(value='<b>5. String indexes start at 1 in JavaScript</b><br><i>Answer True or False</i>')"
      ]
     },
     "metadata": {},
     "output_type": "display_data"
    },
    {
     "data": {
      "application/vnd.jupyter.widget-view+json": {
       "model_id": "71ededd555934b89aa364777a87de9cd",
       "version_major": 2,
       "version_minor": 0
      },
      "text/plain": [
       "Text(value='False', placeholder='True/False')"
      ]
     },
     "metadata": {},
     "output_type": "display_data"
    },
    {
     "data": {
      "application/vnd.jupyter.widget-view+json": {
       "model_id": "06189c4963d247219791834d6c71576b",
       "version_major": 2,
       "version_minor": 0
      },
      "text/plain": [
       "HTML(value=\"<b>6. 'hello'.length returns 5</b><br><i>Answer True or False</i>\")"
      ]
     },
     "metadata": {},
     "output_type": "display_data"
    },
    {
     "data": {
      "application/vnd.jupyter.widget-view+json": {
       "model_id": "292bb83d403947aebeed985160d6c6ee",
       "version_major": 2,
       "version_minor": 0
      },
      "text/plain": [
       "Text(value='True', placeholder='True/False')"
      ]
     },
     "metadata": {},
     "output_type": "display_data"
    },
    {
     "data": {
      "application/vnd.jupyter.widget-view+json": {
       "model_id": "a93283efe0264ad298f309e5b1871bfe",
       "version_major": 2,
       "version_minor": 0
      },
      "text/plain": [
       "Button(button_style='success', description='Check Answers', icon='check', style=ButtonStyle())"
      ]
     },
     "metadata": {},
     "output_type": "display_data"
    },
    {
     "data": {
      "application/vnd.jupyter.widget-view+json": {
       "model_id": "35367313c00a4e2487cd4bc110399aff",
       "version_major": 2,
       "version_minor": 0
      },
      "text/plain": [
       "Output()"
      ]
     },
     "metadata": {},
     "output_type": "display_data"
    }
   ],
   "source": [
    "# Interactive Free-Response Quiz (JavaScript-only)\n",
    "from IPython.display import display, HTML, Javascript\n",
    "import ipywidgets as widgets\n",
    "\n",
    "print(\"🎯 JavaScript String Basics - Free-Response Quiz\")\n",
    "print(\"Type your answers below and click Check Answers.\\n\")\n",
    "\n",
    "# Question 1\n",
    "q1_label = widgets.HTML(\"<b>1. In JavaScript, which property is used to get the length of a string?</b><br><i>Answer with the property name (e.g., length or string.length)</i>\")\n",
    "q1_input = widgets.Text(value=\"length\", placeholder=\"e.g., length or string.length\")\n",
    "\n",
    "# Question 2\n",
    "q2_label = widgets.HTML(\"<b>2. Which expression can concatenate two strings?</b><br><i>Type the expression or operator (e.g., \\\"Hello\\\" + \\\"World\\\" or +)</i>\")\n",
    "q2_input = widgets.Text(value='\"Hello\" + \"World\"', placeholder='e.g., \"Hello\" + \"World\" or +')\n",
    "\n",
    "# Question 3\n",
    "q3_label = widgets.HTML(\"<b>3. What does 'JavaScript'.substring(0, 4) return?</b><br><i>Type the exact substring</i>\")\n",
    "q3_input = widgets.Text(value=\"Java\", placeholder='e.g., Java')\n",
    "\n",
    "# Question 4\n",
    "q4_label = widgets.HTML(\"<b>4. Which method converts a string to uppercase?</b><br><i>Type the method name</i>\")\n",
    "q4_input = widgets.Text(value=\"toUpperCase()\", placeholder='e.g., toUpperCase()')\n",
    "\n",
    "# True/False Questions\n",
    "q5_label = widgets.HTML(\"<b>5. String indexes start at 1 in JavaScript</b><br><i>Answer True or False</i>\")\n",
    "q5_input = widgets.Text(value=\"False\", placeholder='True/False')\n",
    "\n",
    "q6_label = widgets.HTML(\"<b>6. 'hello'.length returns 5</b><br><i>Answer True or False</i>\")\n",
    "q6_input = widgets.Text(value=\"True\", placeholder='True/False')\n",
    "\n",
    "# Submit Button\n",
    "submit_btn = widgets.Button(\n",
    "    description=\"Check Answers\",\n",
    "    button_style='success',\n",
    "    icon='check'\n",
    ")\n",
    "\n",
    "output = widgets.Output()\n",
    "\n",
    "# Helper functions\n",
    "def clean_token(s: str) -> str:\n",
    "    s = s.strip().lower()\n",
    "    s = s.strip('`')\n",
    "    if s.endswith('()'):\n",
    "        s = s[:-2]\n",
    "    return s\n",
    "\n",
    "def strip_quotes_spaces(s: str) -> str:\n",
    "    return s.replace('\"', '').replace(\"'\", '').replace(' ', '').strip().lower()\n",
    "\n",
    "def parse_bool_like(s: str):\n",
    "    v = s.strip().lower()\n",
    "    if v in {'true', 't', 'yes', 'y', '1'}:\n",
    "        return True\n",
    "    if v in {'false', 'f', 'no', 'n', '0'}:\n",
    "        return False\n",
    "    return None\n",
    "\n",
    "# Answer checker\n",
    "def check_answers(btn):\n",
    "    with output:\n",
    "        output.clear_output()\n",
    "        score = 0\n",
    "        total = 6\n",
    "\n",
    "        print(\"📊 QUIZ RESULTS\")\n",
    "        print(\"=\" * 40)\n",
    "\n",
    "        # Q1: length property\n",
    "        a1 = clean_token(q1_input.value)\n",
    "        if a1 == 'length' or a1.endswith('.length'):\n",
    "            score += 1\n",
    "            print(\"✅ Q1: CORRECT\")\n",
    "        else:\n",
    "            print(\"❌ Q1: INCORRECT - Expected: length (property)\")\n",
    "\n",
    "        # Q2: concatenation using +\n",
    "        raw2 = q2_input.value\n",
    "        a2_clean = strip_quotes_spaces(raw2)\n",
    "        if ('+' in raw2) or ('plus' in raw2.lower()) or (a2_clean == 'hello+world'):\n",
    "            score += 1\n",
    "            print(\"✅ Q2: CORRECT\")\n",
    "        else:\n",
    "            print(\"❌ Q2: INCORRECT - Example: \\\"Hello\\\" + \\\"World\\\" (use +)\")\n",
    "\n",
    "        # Q3: substring(0,4) -> \"Java\"\n",
    "        a3 = q3_input.value.strip().strip('\"').strip(\"'\")\n",
    "        if a3.lower() == 'java':\n",
    "            score += 1\n",
    "            print(\"✅ Q3: CORRECT\")\n",
    "        else:\n",
    "            print(\"❌ Q3: INCORRECT - Correct: Java\")\n",
    "\n",
    "        # Q4: toUpperCase()\n",
    "        a4 = clean_token(q4_input.value).replace('_', '')\n",
    "        if a4 == 'touppercase':\n",
    "            score += 1\n",
    "            print(\"✅ Q4: CORRECT\")\n",
    "        else:\n",
    "            print(\"❌ Q4: INCORRECT - Correct: toUpperCase()\")\n",
    "\n",
    "        # Q5: False\n",
    "        a5 = parse_bool_like(q5_input.value)\n",
    "        if a5 is None:\n",
    "            print(\"⚠️ Q5: Could not parse. Please answer True/False.\")\n",
    "        elif a5 is False:\n",
    "            score += 1\n",
    "            print(\"✅ Q5: CORRECT\")\n",
    "        else:\n",
    "            print(\"❌ Q5: INCORRECT - Correct: False (indexes start at 0)\")\n",
    "\n",
    "        # Q6: True\n",
    "        a6 = parse_bool_like(q6_input.value)\n",
    "        if a6 is None:\n",
    "            print(\"⚠️ Q6: Could not parse. Please answer True/False.\")\n",
    "        elif a6 is True:\n",
    "            score += 1\n",
    "            print(\"✅ Q6: CORRECT\")\n",
    "        else:\n",
    "            print(\"❌ Q6: INCORRECT - Correct: True\")\n",
    "\n",
    "        print(\"=\" * 40)\n",
    "        print(f\"🎯 Your Score: {score}/{total}\")\n",
    "        print(f\"📈 Percentage: {score/total*100:.1f}%\")\n",
    "\n",
    "        try:\n",
    "            display(Javascript(\"\"\"localStorage.setItem('csp34_hw_quiz_tried','true');\"\"\"))\n",
    "        except Exception:\n",
    "            pass\n",
    "\n",
    "submit_btn.on_click(check_answers)\n",
    "\n",
    "# ✅ Display quiz with pre-filled answers\n",
    "display(\n",
    "    q1_label, q1_input,\n",
    "    q2_label, q2_input,\n",
    "    q3_label, q3_input,\n",
    "    q4_label, q4_input,\n",
    "    q5_label, q5_input,\n",
    "    q6_label, q6_input,\n",
    "    submit_btn, output,\n",
    ")\n"
   ]
  },
  {
   "cell_type": "markdown",
   "id": "4cf9f9ec",
   "metadata": {},
   "source": [
    "## Part C: JavaScript Password Strength Practice\n",
    "\n",
    "Here you will make a password strength analyzer in JavaScript. Complete the program so it checks:\n",
    "\n",
    "- Password length ≥ 8 characters\n",
    "- Contains uppercase letters\n",
    "- Contains lowercase letters\n",
    "- Contains numbers\n",
    "- Contains special characters (!@#$%^&\\*)\n",
    "\n",
    "Then calculate a strength score and display appropriate feedback.\n",
    "\n",
    "Try to fix the code to set your own password level.\n"
   ]
  },
  {
   "cell_type": "code",
   "execution_count": 2,
   "id": "f2a683a6",
   "metadata": {
    "vscode": {
     "languageId": "javascript"
    }
   },
   "outputs": [
    {
     "data": {
      "application/javascript": "\nconsole.log(\"=== Password Strength Analyzer ===\");\n\nconst password = \"MyPassword123!\";  // Try changing this to test different passwords\n\nconst passwordLength = password.length;\nconst isLongEnough = passwordLength >= 8;      // ✅ Password must be at least 8 characters\nconst hasUppercase = /[A-Z]/.test(password);   // ✅ Check for uppercase\nconst hasLowercase = /[a-z]/.test(password);   // ✅ Check for lowercase\nconst hasNumbers = /\\d/.test(password);        // ✅ Check for numbers\nconst hasSpecial = /[!@#$%^&*]/.test(password); // ✅ Check for special characters\n\nlet strengthScore = 0;\nif (isLongEnough) strengthScore++;\nif (hasUppercase) strengthScore++;\nif (hasLowercase) strengthScore++;\nif (hasNumbers) strengthScore++;\nif (hasSpecial) strengthScore++;\n\nlet strengthRating = \"\";\nif (strengthScore <= 2) strengthRating = \"Weak\";       // 0–2 points → Weak\nelse if (strengthScore <= 4) strengthRating = \"Medium\"; // 3–4 points → Medium\nelse strengthRating = \"Strong\";                         // 5 points → Strong\n\nconst suggestions = [];\nif (!isLongEnough) suggestions.push(\"Make password longer (at least 8 characters)\");\nif (!hasUppercase) suggestions.push(\"Add uppercase letters\");\nif (!hasLowercase) suggestions.push(\"Add lowercase letters\");\nif (!hasNumbers) suggestions.push(\"Add numbers\");\nif (!hasSpecial) suggestions.push(\"Add special characters: !@#$%^&*\");\n\nlet output = \"=== Password Strength Analyzer ===\\n\\n\";\noutput += \"Password: \" + password + \"\\n\";\noutput += \"Length: \" + passwordLength + \" characters\\n\";\noutput += \"Strength Score: \" + strengthScore + \"/5 - \" + strengthRating + \"\\n\\n\";\noutput += \"Requirements met:\\n\";\noutput += \"  ✓ Length >= 8: \" + isLongEnough + \"\\n\";\noutput += \"  ✓ Has uppercase: \" + hasUppercase + \"\\n\";\noutput += \"  ✓ Has lowercase: \" + hasLowercase + \"\\n\";\noutput += \"  ✓ Has numbers: \" + hasNumbers + \"\\n\";\noutput += \"  ✓ Has special chars: \" + hasSpecial + \"\\n\\n\";\n\nif (suggestions.length > 0) {\n    output += \"Suggestions for improvement:\\n\";\n    for (const s of suggestions) output += \"  • \" + s + \"\\n\";\n} else {\n    output += \"🎉 Excellent! Your password meets all security requirements!\\n\";\n}\n\nconsole.log(output);\n",
      "text/plain": [
       "<IPython.core.display.Javascript object>"
      ]
     },
     "metadata": {},
     "output_type": "display_data"
    }
   ],
   "source": [
    "%%javascript\n",
    "\n",
    "console.log(\"=== Password Strength Analyzer ===\");\n",
    "\n",
    "const password = \"MyPassword123!\";  // Try changing this to test different passwords\n",
    "\n",
    "const passwordLength = password.length;\n",
    "const isLongEnough = passwordLength >= 8;      // ✅ Password must be at least 8 characters\n",
    "const hasUppercase = /[A-Z]/.test(password);   // ✅ Check for uppercase\n",
    "const hasLowercase = /[a-z]/.test(password);   // ✅ Check for lowercase\n",
    "const hasNumbers = /\\d/.test(password);        // ✅ Check for numbers\n",
    "const hasSpecial = /[!@#$%^&*]/.test(password); // ✅ Check for special characters\n",
    "\n",
    "let strengthScore = 0;\n",
    "if (isLongEnough) strengthScore++;\n",
    "if (hasUppercase) strengthScore++;\n",
    "if (hasLowercase) strengthScore++;\n",
    "if (hasNumbers) strengthScore++;\n",
    "if (hasSpecial) strengthScore++;\n",
    "\n",
    "let strengthRating = \"\";\n",
    "if (strengthScore <= 2) strengthRating = \"Weak\";       // 0–2 points → Weak\n",
    "else if (strengthScore <= 4) strengthRating = \"Medium\"; // 3–4 points → Medium\n",
    "else strengthRating = \"Strong\";                         // 5 points → Strong\n",
    "\n",
    "const suggestions = [];\n",
    "if (!isLongEnough) suggestions.push(\"Make password longer (at least 8 characters)\");\n",
    "if (!hasUppercase) suggestions.push(\"Add uppercase letters\");\n",
    "if (!hasLowercase) suggestions.push(\"Add lowercase letters\");\n",
    "if (!hasNumbers) suggestions.push(\"Add numbers\");\n",
    "if (!hasSpecial) suggestions.push(\"Add special characters: !@#$%^&*\");\n",
    "\n",
    "let output = \"=== Password Strength Analyzer ===\\n\\n\";\n",
    "output += \"Password: \" + password + \"\\n\";\n",
    "output += \"Length: \" + passwordLength + \" characters\\n\";\n",
    "output += \"Strength Score: \" + strengthScore + \"/5 - \" + strengthRating + \"\\n\\n\";\n",
    "output += \"Requirements met:\\n\";\n",
    "output += \"  ✓ Length >= 8: \" + isLongEnough + \"\\n\";\n",
    "output += \"  ✓ Has uppercase: \" + hasUppercase + \"\\n\";\n",
    "output += \"  ✓ Has lowercase: \" + hasLowercase + \"\\n\";\n",
    "output += \"  ✓ Has numbers: \" + hasNumbers + \"\\n\";\n",
    "output += \"  ✓ Has special chars: \" + hasSpecial + \"\\n\\n\";\n",
    "\n",
    "if (suggestions.length > 0) {\n",
    "    output += \"Suggestions for improvement:\\n\";\n",
    "    for (const s of suggestions) output += \"  • \" + s + \"\\n\";\n",
    "} else {\n",
    "    output += \"🎉 Excellent! Your password meets all security requirements!\\n\";\n",
    "}\n",
    "\n",
    "console.log(output);\n"
   ]
  }
 ],
 "metadata": {
  "kernelspec": {
   "display_name": "venv",
   "language": "python",
   "name": "python3"
  },
  "language_info": {
   "codemirror_mode": {
    "name": "ipython",
    "version": 3
   },
   "file_extension": ".py",
   "mimetype": "text/x-python",
   "name": "python",
   "nbconvert_exporter": "python",
   "pygments_lexer": "ipython3",
   "version": "3.9.6"
  }
 },
 "nbformat": 4,
 "nbformat_minor": 5
}
