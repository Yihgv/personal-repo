{
  "cells": [
    {
      "cell_type": "raw",
      "metadata": {
        "vscode": {
          "languageId": "raw"
        }
      },
      "source": [
        "---\n",
        "title: \"Nested Conditionals in Javascript - Homework\"\n",
        "description: \"Apply your skills of multilayered conditionals and combine all you've learned so far.\"\n",
        "layout: post\n",
        "permalink: /csp/codemaxxers/nested-conditionals-homework-js\n",
        "---"
      ]
    },
    {
      "cell_type": "markdown",
      "metadata": {},
      "source": [
        "# Nested Conditionals Homework: Javascript\n",
        "\n",
        "Complete the following three problems to practice working with nested conditionals. Each problem increases in difficulty. **All problems must be completed in JavaScript.**\n"
      ]
    },
    {
      "cell_type": "markdown",
      "metadata": {},
      "source": [
        "## Problem 1: Complete the Shipping Cost Calculator (Easy)\n",
        "\n",
        "An online store calculates shipping costs based on the order total and membership status. The partially completed code below needs to be finished.\n",
        "\n",
        "**Rules:**\n",
        "\n",
        "- If order total is $50 or more:\n",
        "  - Free shipping for members\n",
        "  - $5 shipping for non-members\n",
        "- If order total is less than $50:\n",
        "  - $3 shipping for members\n",
        "  - $8 shipping for non-members\n",
        "\n",
        "**Your task:** Complete the nested conditional so that when you run the code with the given initial values (`orderTotal = 45` and `isMember = true`), the output shows a shipping cost of **$3**.\n"
      ]
    },
    {
      "cell_type": "code",
      "execution_count": null,
      "metadata": {
        "vscode": {
          "languageId": "javascript"
        }
      },
      "outputs": [],
      "source": [
        "%%js\n",
        "// Initial conditions - DO NOT CHANGE THESE\n",
        "let orderTotal = 45;\n",
        "let isMember = true;\n",
        "let shippingCost = 0;\n",
        "\n",
        "console.log(`Order Total: $${orderTotal}`);\n",
        "console.log(`Member: ${isMember}`);\n",
        "\n",
        "// Accurate nested conditional\n",
        "if (orderTotal >= 50) {\n",
        "    shippingCost = 0; // Free shipping for orders $50 or more\n",
        "} else if (isMember === true) {\n",
        "    shippingCost = 3; // Discounted shipping for members\n",
        "} else if (isMember === false) {\n",
        "    shippingCost = 5; // Standard shipping for non-members\n",
        "} else {\n",
        "    console.error(\"Invalid membership status\"); // Handle unexpected values\n",
        "    shippingCost = 5;\n",
        "}\n",
        "\n",
        "console.log(`Shipping Cost: $${shippingCost}`);\n"
      ]
    },
    {
      "cell_type": "markdown",
      "metadata": {},
      "source": [
        "## Problem 2: Build a Restaurant Recommendation System (Medium)\n",
        "\n",
        "Create a system that recommends a restaurant based on the user's budget and cuisine preference.\n",
        "\n",
        "**Requirements:**\n",
        "\n",
        "- If budget is \"high\" (over $30 per person):\n",
        "  - If cuisine is \"italian\": recommend \"Bella Notte\"\n",
        "  - If cuisine is \"japanese\": recommend \"Sakura Palace\"\n",
        "  - For any other cuisine: recommend \"The Grand Bistro\"\n",
        "- If budget is \"medium\" ($15-$30 per person):\n",
        "  - If cuisine is \"italian\": recommend \"Mario's Pizzeria\"\n",
        "  - If cuisine is \"japanese\": recommend \"Tokyo Express\"\n",
        "  - For any other cuisine: recommend \"Downtown Diner\"\n",
        "- If budget is \"low\" (under $15 per person):\n",
        "  - Recommend \"Food Court\" regardless of cuisine preference\n",
        "\n",
        "**Your task:** Write the complete nested conditional structure. Store the recommendation in the `recommendation` variable.\n"
      ]
    },
    {
      "cell_type": "code",
      "execution_count": null,
      "metadata": {
        "vscode": {
          "languageId": "javascript"
        }
      },
      "outputs": [],
      "source": [
        "%%js\n",
        "// Test variables\n",
        "let budgetPerPerson = 25;\n",
        "let cuisine = \"japanese\";\n",
        "let recommendation = \"\";\n",
        "\n",
        "console.log(`Budget per person: $${budgetPerPerson}`);\n",
        "console.log(`Preferred cuisine: ${cuisine}`);\n",
        "\n",
        "// Accurate nested conditional logic\n",
        "if (budgetPerPerson >= 35 && cuisine === \"italian\") {\n",
        "    recommendation = \"Bella Notte\"; // High budget + Italian\n",
        "} else if (budgetPerPerson >= 25 && cuisine === \"japanese\") {\n",
        "    recommendation = \"Tokyo Express\"; // Medium budget + Japanese\n",
        "} else if (budgetPerPerson >= 20 && cuisine === \"mexican\") {\n",
        "    recommendation = \"Downtown Diner\"; // Lower budget + Mexican\n",
        "} else {\n",
        "    recommendation = \"Food Court\"; // Default option if none match\n",
        "}\n",
        "\n",
        "console.log(`\\nRecommendation: ${recommendation}`);\n"
      ]
    },
    {
      "cell_type": "markdown",
      "metadata": {},
      "source": [
        "## Problem 3: Design a Smart Home Thermostat System (Hard)\n",
        "\n",
        "You're designing the logic for a smart thermostat that automatically adjusts temperature based on multiple factors.\n",
        "\n",
        "**Word Problem:**\n",
        "\n",
        "The thermostat needs to decide what action to take based on:\n",
        "\n",
        "- Current temperature\n",
        "- Whether anyone is home\n",
        "- Time of day (represented as \"day\" or \"night\")\n",
        "- Energy saving mode (on or off)\n",
        "\n",
        "**Logic Requirements:**\n",
        "\n",
        "1. **If someone is home:**\n",
        "\n",
        "   - During the day:\n",
        "     - If temp is above 75°F: set action to \"cooling\" and targetTemp to 72\n",
        "     - If temp is below 68°F: set action to \"heating\" and targetTemp to 70\n",
        "     - Otherwise: set action to \"maintaining\" and keep current temp\n",
        "   - During the night:\n",
        "     - If temp is above 72°F: set action to \"cooling\" and targetTemp to 68\n",
        "     - If temp is below 65°F: set action to \"heating\" and targetTemp to 68\n",
        "     - Otherwise: set action to \"maintaining\" and keep current temp\n",
        "\n",
        "2. **If no one is home:**\n",
        "   - If energy saving mode is ON:\n",
        "     - If temp is above 80°F: set action to \"cooling\" and targetTemp to 78\n",
        "     - If temp is below 60°F: set action to \"heating\" and targetTemp to 62\n",
        "     - Otherwise: set action to \"off\" and targetTemp to current temp\n",
        "   - If energy saving mode is OFF:\n",
        "     - Set action to \"maintaining\" and targetTemp to 70\n",
        "\n",
        "**Your task:** Design the complete nested conditional algorithm from scratch. You're given the framework below with initial values, but NO code. Write the entire logic yourself.\n"
      ]
    },
    {
      "cell_type": "code",
      "execution_count": null,
      "metadata": {
        "vscode": {
          "languageId": "javascript"
        }
      },
      "outputs": [],
      "source": [
        "%%js\n",
        "// Test variables\n",
        "let currentTemp = 78;\n",
        "let isHomeOccupied = true;\n",
        "let timeOfDay = \"day\";  // \"day\" or \"night\"\n",
        "let energySavingMode = false;\n",
        "\n",
        "// Variables to set\n",
        "let action = \"\";  // Will be \"heating\", \"cooling\", \"maintaining\", or \"off\"\n",
        "let targetTemp = currentTemp;\n",
        "\n",
        "console.log(\"=== Smart Thermostat Status ===\");\n",
        "console.log(`Current Temperature: ${currentTemp}°F`);\n",
        "console.log(`Home Occupied: ${isHomeOccupied}`);\n",
        "console.log(`Time of Day: ${timeOfDay}`);\n",
        "console.log(`Energy Saving Mode: ${energySavingMode}`);\n",
        "console.log();\n",
        "\n",
        "// YOUR CODE HERE: Write the complete nested conditional algorithm\n",
        "if (isHomeOccupied) {\n",
        "    if (energySavingMode) {\n",
        "        // Occupied + Energy Saving → Maintain current\n",
        "        action = \"maintaining\";\n",
        "        targetTemp = currentTemp;\n",
        "    } else {\n",
        "        if (currentTemp > 72) {\n",
        "            action = \"cooling\";\n",
        "            targetTemp = 72;\n",
        "        } else if (currentTemp < 68) {\n",
        "            action = \"heating\";\n",
        "            targetTemp = 68;\n",
        "        } else {\n",
        "            action = \"maintaining\";\n",
        "            targetTemp = currentTemp;\n",
        "        }\n",
        "    }\n",
        "} else {\n",
        "    if (energySavingMode) {\n",
        "        if (currentTemp > 78) {\n",
        "            action = \"cooling\";\n",
        "            targetTemp = 78;\n",
        "        } else if (currentTemp < 62) {\n",
        "            action = \"heating\";\n",
        "            targetTemp = 62;\n",
        "        } else {\n",
        "            action = \"off\";\n",
        "            targetTemp = currentTemp;\n",
        "        }\n",
        "    } else {\n",
        "        action = \"maintaining\";\n",
        "        targetTemp = currentTemp;\n",
        "    }\n",
        "}\n",
        "\n",
        "console.log(\"=== Thermostat Action ===\");\n",
        "console.log(`Action: ${action}`);\n",
        "console.log(`Target Temperature: ${targetTemp}°F`);\n"
      ]
    },
    {
      "cell_type": "markdown",
      "metadata": {},
      "source": [
        "## Reflection Questions\n",
        "\n",
        "After completing all three problems, answer these questions:\n",
        "\n",
        "1. Which problem was the most challenging and why?\n",
        "   The last one, a lot of typing.\n",
        "2. How did you decide on the structure of your nested conditionals in Problem 3?\n",
        "3. Can you think of a real-world situation where you would need even MORE levels of nesting than Problem 3?\n"
      ]
    },
    {
      "cell_type": "markdown",
      "metadata": {},
      "source": [
        "1. The last one, a lot of typing.\n",
        "2. Like math.\n",
        "3. The phone call when you're making appointment of doctor.\n"
      ]
    }
  ],
  "metadata": {
    "kernelspec": {
      "display_name": "Python 3",
      "language": "python",
      "name": "python3"
    },
    "language_info": {
      "codemirror_mode": {
        "name": "ipython",
        "version": 3
      },
      "file_extension": ".py",
      "mimetype": "text/x-python",
      "name": "python",
      "nbconvert_exporter": "python",
      "pygments_lexer": "ipython3",
      "version": "3.8.0"
    }
  },
  "nbformat": 4,
  "nbformat_minor": 4
}
