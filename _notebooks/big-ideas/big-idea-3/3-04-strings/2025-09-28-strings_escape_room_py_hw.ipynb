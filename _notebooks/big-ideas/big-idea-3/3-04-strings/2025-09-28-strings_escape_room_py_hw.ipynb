{
 "cells": [
  {
   "cell_type": "raw",
   "id": "8f638561",
   "metadata": {
    "vscode": {
     "languageId": "raw"
    }
   },
   "source": [
    "---\n",
    "layout: post\n",
    "title: Escape Room - Strings Homework\n",
    "description: Quick practice with strings in Python.\n",
    "permalink: /python/strings/escape_room-hw \n",
    "Author: Cyrus S, Rishabh J.\n",
    "---"
   ]
  },
  {
   "cell_type": "markdown",
   "id": "0747a274",
   "metadata": {},
   "source": [
    "# AP CSP 3.4 — Python Strings: Free-Response Quiz\n",
    "\n",
    "This quiz focuses only on Python string operations (no JavaScript). Type your answers and click Check Answers.\n",
    "\n",
    "- Case-insensitive where appropriate\n",
    "- Quotes around answers are optional\n",
    "- True/False accepts yes/no, t/f, 1/0\n"
   ]
  },
  {
   "cell_type": "code",
   "execution_count": 2,
   "id": "91537994",
   "metadata": {},
   "outputs": [
    {
     "name": "stdout",
     "output_type": "stream",
     "text": [
      "Requirement already satisfied: ipywidgets in /Users/a86133/opencs/pages/venv/lib/python3.9/site-packages (8.1.7)\n",
      "Requirement already satisfied: jupyterlab_widgets~=3.0.15 in /Users/a86133/opencs/pages/venv/lib/python3.9/site-packages (from ipywidgets) (3.0.15)\n",
      "Requirement already satisfied: widgetsnbextension~=4.0.14 in /Users/a86133/opencs/pages/venv/lib/python3.9/site-packages (from ipywidgets) (4.0.14)\n",
      "Requirement already satisfied: comm>=0.1.3 in /Users/a86133/opencs/pages/venv/lib/python3.9/site-packages (from ipywidgets) (0.2.3)\n",
      "Requirement already satisfied: traitlets>=4.3.1 in /Users/a86133/opencs/pages/venv/lib/python3.9/site-packages (from ipywidgets) (5.14.3)\n",
      "Requirement already satisfied: ipython>=6.1.0 in /Users/a86133/opencs/pages/venv/lib/python3.9/site-packages (from ipywidgets) (8.18.1)\n",
      "Requirement already satisfied: exceptiongroup in /Users/a86133/opencs/pages/venv/lib/python3.9/site-packages (from ipython>=6.1.0->ipywidgets) (1.3.0)\n",
      "Requirement already satisfied: decorator in /Users/a86133/opencs/pages/venv/lib/python3.9/site-packages (from ipython>=6.1.0->ipywidgets) (5.2.1)\n",
      "Requirement already satisfied: pexpect>4.3 in /Users/a86133/opencs/pages/venv/lib/python3.9/site-packages (from ipython>=6.1.0->ipywidgets) (4.9.0)\n",
      "Requirement already satisfied: stack-data in /Users/a86133/opencs/pages/venv/lib/python3.9/site-packages (from ipython>=6.1.0->ipywidgets) (0.6.3)\n",
      "Requirement already satisfied: matplotlib-inline in /Users/a86133/opencs/pages/venv/lib/python3.9/site-packages (from ipython>=6.1.0->ipywidgets) (0.1.7)\n",
      "Requirement already satisfied: typing-extensions in /Users/a86133/opencs/pages/venv/lib/python3.9/site-packages (from ipython>=6.1.0->ipywidgets) (4.15.0)\n",
      "Requirement already satisfied: prompt-toolkit<3.1.0,>=3.0.41 in /Users/a86133/opencs/pages/venv/lib/python3.9/site-packages (from ipython>=6.1.0->ipywidgets) (3.0.52)\n",
      "Requirement already satisfied: pygments>=2.4.0 in /Users/a86133/opencs/pages/venv/lib/python3.9/site-packages (from ipython>=6.1.0->ipywidgets) (2.19.2)\n",
      "Requirement already satisfied: jedi>=0.16 in /Users/a86133/opencs/pages/venv/lib/python3.9/site-packages (from ipython>=6.1.0->ipywidgets) (0.19.2)\n",
      "Requirement already satisfied: parso<0.9.0,>=0.8.4 in /Users/a86133/opencs/pages/venv/lib/python3.9/site-packages (from jedi>=0.16->ipython>=6.1.0->ipywidgets) (0.8.5)\n",
      "Requirement already satisfied: ptyprocess>=0.5 in /Users/a86133/opencs/pages/venv/lib/python3.9/site-packages (from pexpect>4.3->ipython>=6.1.0->ipywidgets) (0.7.0)\n",
      "Requirement already satisfied: wcwidth in /Users/a86133/opencs/pages/venv/lib/python3.9/site-packages (from prompt-toolkit<3.1.0,>=3.0.41->ipython>=6.1.0->ipywidgets) (0.2.14)\n",
      "Requirement already satisfied: executing>=1.2.0 in /Users/a86133/opencs/pages/venv/lib/python3.9/site-packages (from stack-data->ipython>=6.1.0->ipywidgets) (2.2.1)\n",
      "Requirement already satisfied: asttokens>=2.1.0 in /Users/a86133/opencs/pages/venv/lib/python3.9/site-packages (from stack-data->ipython>=6.1.0->ipywidgets) (3.0.0)\n",
      "Requirement already satisfied: pure-eval in /Users/a86133/opencs/pages/venv/lib/python3.9/site-packages (from stack-data->ipython>=6.1.0->ipywidgets) (0.2.3)\n",
      "\u001b[33mWARNING: You are using pip version 21.2.4; however, version 25.2 is available.\n",
      "You should consider upgrading via the '/Users/a86133/opencs/pages/venv/bin/python -m pip install --upgrade pip' command.\u001b[0m\n",
      "Note: you may need to restart the kernel to use updated packages.\n",
      "🐍 Python Strings — Free-Response Quiz\n",
      "Answer the questions below and click Check Answers.\n",
      "\n"
     ]
    },
    {
     "data": {
      "application/vnd.jupyter.widget-view+json": {
       "model_id": "943af3cafbdc484a8316addb945e7801",
       "version_major": 2,
       "version_minor": 0
      },
      "text/plain": [
       "HTML(value=\"<b>1. What does 'hello'[1:4] return?</b>\")"
      ]
     },
     "metadata": {},
     "output_type": "display_data"
    },
    {
     "data": {
      "application/vnd.jupyter.widget-view+json": {
       "model_id": "ed37bc8d7e274f9ea679af18b9c2705b",
       "version_major": 2,
       "version_minor": 0
      },
      "text/plain": [
       "Text(value='ell')"
      ]
     },
     "metadata": {},
     "output_type": "display_data"
    },
    {
     "data": {
      "application/vnd.jupyter.widget-view+json": {
       "model_id": "8acf63d878ea45f48dc94505f7a71ba0",
       "version_major": 2,
       "version_minor": 0
      },
      "text/plain": [
       "HTML(value=\"<b>2. What is len('Escape Room')?</b>\")"
      ]
     },
     "metadata": {},
     "output_type": "display_data"
    },
    {
     "data": {
      "application/vnd.jupyter.widget-view+json": {
       "model_id": "6863d46536744940a5d5b4c1c708c80e",
       "version_major": 2,
       "version_minor": 0
      },
      "text/plain": [
       "Text(value='11')"
      ]
     },
     "metadata": {},
     "output_type": "display_data"
    },
    {
     "data": {
      "application/vnd.jupyter.widget-view+json": {
       "model_id": "15f3613ed1de42679dc51940a3f6e993",
       "version_major": 2,
       "version_minor": 0
      },
      "text/plain": [
       "HTML(value=\"<b>3. What does 'Python'.lower() return?</b>\")"
      ]
     },
     "metadata": {},
     "output_type": "display_data"
    },
    {
     "data": {
      "application/vnd.jupyter.widget-view+json": {
       "model_id": "64432cc496cb4543a64b854b403525ca",
       "version_major": 2,
       "version_minor": 0
      },
      "text/plain": [
       "Text(value='python')"
      ]
     },
     "metadata": {},
     "output_type": "display_data"
    },
    {
     "data": {
      "application/vnd.jupyter.widget-view+json": {
       "model_id": "07b8d5c6936a4326ba6fabf574b17e58",
       "version_major": 2,
       "version_minor": 0
      },
      "text/plain": [
       "HTML(value=\"<b>4. If s = '   CS Rocks!  ', what does s.strip() return?</b>\")"
      ]
     },
     "metadata": {},
     "output_type": "display_data"
    },
    {
     "data": {
      "application/vnd.jupyter.widget-view+json": {
       "model_id": "739d657cc97847cb956b8fc7a0f61b8b",
       "version_major": 2,
       "version_minor": 0
      },
      "text/plain": [
       "Text(value='CS Rocks!')"
      ]
     },
     "metadata": {},
     "output_type": "display_data"
    },
    {
     "data": {
      "application/vnd.jupyter.widget-view+json": {
       "model_id": "6498c74623da4e07b092543462931be0",
       "version_major": 2,
       "version_minor": 0
      },
      "text/plain": [
       "HTML(value=\"<b>5. Does 'algorithm' start with 'algo'?</b> (True/False)\")"
      ]
     },
     "metadata": {},
     "output_type": "display_data"
    },
    {
     "data": {
      "application/vnd.jupyter.widget-view+json": {
       "model_id": "7d2227c8c3b14c9b8b0c5ffaaaadba8f",
       "version_major": 2,
       "version_minor": 0
      },
      "text/plain": [
       "Text(value='True')"
      ]
     },
     "metadata": {},
     "output_type": "display_data"
    },
    {
     "data": {
      "application/vnd.jupyter.widget-view+json": {
       "model_id": "0baaf8505b5a45cf831b1f9aa7d2f31e",
       "version_major": 2,
       "version_minor": 0
      },
      "text/plain": [
       "HTML(value=\"<b>6. What is 'banana'.count('an')?</b>\")"
      ]
     },
     "metadata": {},
     "output_type": "display_data"
    },
    {
     "data": {
      "application/vnd.jupyter.widget-view+json": {
       "model_id": "9a900cd21c1a4d5eb532e7a914bb6e6f",
       "version_major": 2,
       "version_minor": 0
      },
      "text/plain": [
       "Text(value='2')"
      ]
     },
     "metadata": {},
     "output_type": "display_data"
    },
    {
     "data": {
      "application/vnd.jupyter.widget-view+json": {
       "model_id": "a2b3111bef15417997142d1a82877846",
       "version_major": 2,
       "version_minor": 0
      },
      "text/plain": [
       "HTML(value=\"<b>7. What index does 'debuggers'.find('bug') return?</b>\")"
      ]
     },
     "metadata": {},
     "output_type": "display_data"
    },
    {
     "data": {
      "application/vnd.jupyter.widget-view+json": {
       "model_id": "f4013a9050464f18a49352a292c4d65b",
       "version_major": 2,
       "version_minor": 0
      },
      "text/plain": [
       "Text(value='2')"
      ]
     },
     "metadata": {},
     "output_type": "display_data"
    },
    {
     "data": {
      "application/vnd.jupyter.widget-view+json": {
       "model_id": "95eeab995e044a119fc9bf0a32092a73",
       "version_major": 2,
       "version_minor": 0
      },
      "text/plain": [
       "HTML(value=\"<b>8. What is the length of the password 'Escape123!'?</b>\")"
      ]
     },
     "metadata": {},
     "output_type": "display_data"
    },
    {
     "data": {
      "application/vnd.jupyter.widget-view+json": {
       "model_id": "a5569afa57a04bab9ecf264d151e7029",
       "version_major": 2,
       "version_minor": 0
      },
      "text/plain": [
       "Text(value='10')"
      ]
     },
     "metadata": {},
     "output_type": "display_data"
    },
    {
     "data": {
      "application/vnd.jupyter.widget-view+json": {
       "model_id": "3776ab602df6432ebaf7aacec9031efa",
       "version_major": 2,
       "version_minor": 0
      },
      "text/plain": [
       "Button(button_style='success', description='Check Answers', icon='check', style=ButtonStyle())"
      ]
     },
     "metadata": {},
     "output_type": "display_data"
    },
    {
     "data": {
      "application/vnd.jupyter.widget-view+json": {
       "model_id": "b69fd67526fc429d9da10c6f7d517066",
       "version_major": 2,
       "version_minor": 0
      },
      "text/plain": [
       "Output()"
      ]
     },
     "metadata": {},
     "output_type": "display_data"
    }
   ],
   "source": [
    "%pip install ipywidgets\n",
    "\n",
    "# Define password for Q8\n",
    "password = \"Escape123!\"\n",
    "password_length = len(password)\n",
    "\n",
    "# Python-only Strings Quiz\n",
    "from IPython.display import display, HTML, Javascript\n",
    "import ipywidgets as widgets\n",
    "\n",
    "print(\"🐍 Python Strings — Free-Response Quiz\")\n",
    "print(\"Answer the questions below and click Check Answers.\\n\")\n",
    "\n",
    "# Q1: Slice\n",
    "q1_label = widgets.HTML(\"<b>1. What does 'hello'[1:4] return?</b>\")\n",
    "q1 = widgets.Text(value='ell')\n",
    "\n",
    "# Q2: Length\n",
    "q2_label = widgets.HTML(\"<b>2. What is len('Escape Room')?</b>\")\n",
    "q2 = widgets.Text(value='11')\n",
    "\n",
    "# Q3: Lowercase\n",
    "q3_label = widgets.HTML(\"<b>3. What does 'Python'.lower() return?</b>\")\n",
    "q3 = widgets.Text(value='python')\n",
    "\n",
    "# Q4: Strip\n",
    "q4_label = widgets.HTML(\"<b>4. If s = '   CS Rocks!  ', what does s.strip() return?</b>\")\n",
    "q4 = widgets.Text(value='CS Rocks!')\n",
    "\n",
    "# Q5: startswith (True/False)\n",
    "q5_label = widgets.HTML(\"<b>5. Does 'algorithm' start with 'algo'?</b> (True/False)\")\n",
    "q5 = widgets.Text(value='True')\n",
    "\n",
    "# Q6: count\n",
    "q6_label = widgets.HTML(\"<b>6. What is 'banana'.count('an')?</b>\")\n",
    "q6 = widgets.Text(value='2')\n",
    "\n",
    "# Q7: find\n",
    "q7_label = widgets.HTML(\"<b>7. What index does 'debuggers'.find('bug') return?</b>\")\n",
    "q7 = widgets.Text(value='2')\n",
    "\n",
    "# Q8: password length (uses existing variable)\n",
    "q8_label = widgets.HTML(f\"<b>8. What is the length of the password '{password}'?</b>\")\n",
    "q8 = widgets.Text(value=str(password_length))\n",
    "\n",
    "submit_btn = widgets.Button(description='Check Answers', button_style='success', icon='check')\n",
    "output = widgets.Output()\n",
    "\n",
    "def parse_bool_like(s: str):\n",
    "    v = s.strip().lower()\n",
    "    if v in {'true','t','yes','y','1'}: return True\n",
    "    if v in {'false','f','no','n','0'}: return False\n",
    "    return None\n",
    "\n",
    "def strip_quotes(s: str):\n",
    "    return s.strip().strip(\"'\").strip('\"')\n",
    "\n",
    "def clean_str(s: str):\n",
    "    return s.strip().strip(\"'\").strip('\"')\n",
    "\n",
    "def check_answers(btn):\n",
    "    with output:\n",
    "        output.clear_output()\n",
    "        score, total = 0, 8\n",
    "        print('📊 QUIZ RESULTS')\n",
    "        print('='*40)\n",
    "\n",
    "        # Q1\n",
    "        a1 = clean_str(q1.value).lower()\n",
    "        if a1 == 'ell':\n",
    "            score += 1; print('✅ Q1: CORRECT')\n",
    "        else:\n",
    "            print('❌ Q1: INCORRECT — Correct: ell')\n",
    "\n",
    "        # Q2 (len of 'Escape Room' is 11)\n",
    "        a2 = clean_str(q2.value)\n",
    "        if a2.isdigit() and int(a2) == 11:\n",
    "            score += 1; print('✅ Q2: CORRECT')\n",
    "        else:\n",
    "            print('❌ Q2: INCORRECT — Correct: 11 (spaces count)')\n",
    "\n",
    "        # Q3\n",
    "        a3 = clean_str(q3.value).lower()\n",
    "        if a3 == 'python':\n",
    "            score += 1; print('✅ Q3: CORRECT')\n",
    "        else:\n",
    "            print(\"❌ Q3: INCORRECT — Correct: python\")\n",
    "\n",
    "        # Q4\n",
    "        a4 = strip_quotes(q4.value)\n",
    "        if a4 == 'CS Rocks!':\n",
    "            score += 1; print('✅ Q4: CORRECT')\n",
    "        else:\n",
    "            print(\"❌ Q4: INCORRECT — Correct: CS Rocks!\")\n",
    "\n",
    "        # Q5\n",
    "        a5 = parse_bool_like(q5.value)\n",
    "        if a5 is None:\n",
    "            print('⚠️ Q5: Could not parse. Please answer True/False.')\n",
    "        elif a5 is True:\n",
    "            score += 1; print('✅ Q5: CORRECT')\n",
    "        else:\n",
    "            print(\"❌ Q5: INCORRECT — Correct: True\")\n",
    "\n",
    "        # Q6\n",
    "        a6 = clean_str(q6.value)\n",
    "        if a6.isdigit() and int(a6) == 2:\n",
    "            score += 1; print('✅ Q6: CORRECT')\n",
    "        else:\n",
    "            print(\"❌ Q6: INCORRECT — Correct: 2\")\n",
    "\n",
    "        # Q7 ('debuggers'.find('bug') is 2)\n",
    "        a7 = clean_str(q7.value)\n",
    "        if a7.isdigit() and int(a7) == 2:\n",
    "            score += 1; print('✅ Q7: CORRECT')\n",
    "        else:\n",
    "            print(\"❌ Q7: INCORRECT — Correct: 2\")\n",
    "\n",
    "        # Q8 (password length)\n",
    "        a8 = clean_str(q8.value)\n",
    "        if a8.isdigit() and int(a8) == password_length:\n",
    "            score += 1; print('✅ Q8: CORRECT')\n",
    "        else:\n",
    "            print(f\"❌ Q8: INCORRECT — Correct: {password_length}\")\n",
    "\n",
    "        print('='*40)\n",
    "        print(f'🎯 Your Score: {score}/{total}')\n",
    "        print(f'📈 Percentage: {score/total*100:.1f}%')\n",
    "        try:\n",
    "            display(Javascript(\"localStorage.setItem('csp34_hw_py_quiz_tried','true');\"))\n",
    "        except Exception:\n",
    "            pass\n",
    "\n",
    "submit_btn.on_click(check_answers)\n",
    "\n",
    "display(\n",
    "    q1_label, q1,\n",
    "    q2_label, q2,\n",
    "    q3_label, q3,\n",
    "    q4_label, q4,\n",
    "    q5_label, q5,\n",
    "    q6_label, q6,\n",
    "    q7_label, q7,\n",
    "    q8_label, q8,\n",
    "    submit_btn, output\n",
    ")\n"
   ]
  },
  {
   "cell_type": "markdown",
   "id": "68afbd04",
   "metadata": {},
   "source": [
    "## Part 2: Python Password Strength Practice\n",
    "\n",
    "Here you will make a password strength analyzer in Python. Complete the program so it checks:\n",
    "\n",
    "- Password length ≥ 8 characters\n",
    "- Contains uppercase letters\n",
    "- Contains lowercase letters\n",
    "- Contains numbers\n",
    "- Contains special characters (!@#$%^&\\*)\n",
    "\n",
    "Then calculate a strength score and display appropriate feedback.\n",
    "\n",
    "Try to fix the code to set your own password level.\n"
   ]
  },
  {
   "cell_type": "code",
   "execution_count": 1,
   "id": "24205713",
   "metadata": {},
   "outputs": [
    {
     "name": "stdout",
     "output_type": "stream",
     "text": [
      "=== 🔐 Password Strength Analyzer ===\n",
      "\n",
      "=== Password Report ===\n",
      "Password: dsdsdf23232\n",
      "Length: 11 characters\n",
      "Strength Score: 3/5 - Medium\n",
      "\n",
      "Requirements met:\n",
      "  ✓ Length >= 8: True\n",
      "  ✓ Has uppercase: False\n",
      "  ✓ Has lowercase: True\n",
      "  ✓ Has numbers: True\n",
      "  ✓ Has special chars: False\n",
      "\n",
      "Suggestions for improvement:\n",
      "  • Add uppercase letters\n",
      "  • Add special characters: !@#$%^&*\n"
     ]
    }
   ],
   "source": [
    "print(\"=== 🔐 Password Strength Analyzer ===\")\n",
    "\n",
    "# Ask user for input\n",
    "password = input(\"What is your password? \")\n",
    "\n",
    "# --- Validation checks ---\n",
    "password_length = len(password)\n",
    "is_long_enough = password_length >= 8\n",
    "has_uppercase = any(char.isupper() for char in password)\n",
    "has_lowercase = any(char.islower() for char in password)\n",
    "has_numbers = any(char.isdigit() for char in password)\n",
    "special_chars = \"!@#$%^&*\"\n",
    "has_special = any(char in special_chars for char in password)\n",
    "\n",
    "# --- Calculate strength score ---\n",
    "strength_score = sum([is_long_enough, has_uppercase, has_lowercase, has_numbers, has_special])\n",
    "\n",
    "if strength_score <= 2:\n",
    "    strength_rating = \"Weak\"\n",
    "elif strength_score == 3 or strength_score == 4:\n",
    "    strength_rating = \"Medium\"\n",
    "else:\n",
    "    strength_rating = \"Strong\"\n",
    "\n",
    "# --- Generate suggestions ---\n",
    "suggestions = []\n",
    "if not is_long_enough:\n",
    "    suggestions.append(\"Make password longer (at least 8 characters)\")\n",
    "if not has_uppercase:\n",
    "    suggestions.append(\"Add uppercase letters\")\n",
    "if not has_lowercase:\n",
    "    suggestions.append(\"Add lowercase letters\")\n",
    "if not has_numbers:\n",
    "    suggestions.append(\"Add numbers\")\n",
    "if not has_special:\n",
    "    suggestions.append(\"Add special characters: !@#$%^&*\")\n",
    "\n",
    "# --- Display results ---\n",
    "print(\"\\n=== Password Report ===\")\n",
    "print(f\"Password: {password}\")\n",
    "print(f\"Length: {password_length} characters\")\n",
    "print(f\"Strength Score: {strength_score}/5 - {strength_rating}\")\n",
    "\n",
    "print(\"\\nRequirements met:\")\n",
    "print(f\"  ✓ Length >= 8: {is_long_enough}\")\n",
    "print(f\"  ✓ Has uppercase: {has_uppercase}\")\n",
    "print(f\"  ✓ Has lowercase: {has_lowercase}\")\n",
    "print(f\"  ✓ Has numbers: {has_numbers}\")\n",
    "print(f\"  ✓ Has special chars: {has_special}\")\n",
    "\n",
    "if suggestions:\n",
    "    print(\"\\nSuggestions for improvement:\")\n",
    "    for s in suggestions:\n",
    "        print(f\"  • {s}\")\n",
    "else:\n",
    "    print(\"\\n🎉 Excellent! Your password meets all security requirements!\")\n"
   ]
  }
 ],
 "metadata": {
  "kernelspec": {
   "display_name": "venv",
   "language": "python",
   "name": "python3"
  },
  "language_info": {
   "codemirror_mode": {
    "name": "ipython",
    "version": 3
   },
   "file_extension": ".py",
   "mimetype": "text/x-python",
   "name": "python",
   "nbconvert_exporter": "python",
   "pygments_lexer": "ipython3",
   "version": "3.9.6"
  }
 },
 "nbformat": 4,
 "nbformat_minor": 5
}
