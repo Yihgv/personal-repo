{
 "cells": [
  {
   "cell_type": "raw",
   "id": "9f76eaf9",
   "metadata": {
    "vscode": {
     "languageId": "raw"
    }
   },
   "source": [
    "---\n",
    "layout: opencs\n",
    "title: Boolean Logic in Programming\n",
    "description: Boolean Hacks For Students To Try In Java\n",
    "comments: false\n",
    "permalink: /csp/big-idea-3/boolean/p4/javahacks\n",
    "comments: true\n",
    "---"
   ]
  },
  {
   "cell_type": "markdown",
   "id": "823548ae",
   "metadata": {},
   "source": [
    "# 🔑 Boolean Hacks in Java: Whack-A-Mole\n",
    "\n",
    "This notebook has short Boolean challenges. Edit the code where it says `TODO` to make it work.\n"
   ]
  },
  {
   "cell_type": "markdown",
   "id": "edd847c1",
   "metadata": {},
   "source": [
    "## Challenge 1: Mole Hit\n",
    "\n",
    "Set hit to true if the player hits the mole. Print \"Hit!\" if hit is true, otherwise print \"Miss!\".\n"
   ]
  },
  {
   "cell_type": "code",
   "execution_count": null,
   "id": "e6c87780",
   "metadata": {
    "vscode": {
     "languageId": "javascript"
    }
   },
   "outputs": [],
   "source": [
    "%%javascript\n",
    "let hit = false; // Change to true if you hit the mole\n",
    "\n",
    "if (hit) {\n",
    "    console.log(\"Hit!\");\n",
    "} else {\n",
    "    console.log(\"Miss!\");\n",
    "}"
   ]
  },
  {
   "cell_type": "markdown",
   "id": "009c2e2d",
   "metadata": {},
   "source": [
    "## Challenge 2: Out of Lives\n",
    "\n",
    "Each time the player misses a mole, they lose a life. If lives reach 0, print \"Game Over!\".\n"
   ]
  },
  {
   "cell_type": "code",
   "execution_count": null,
   "id": "2db682ee",
   "metadata": {
    "vscode": {
     "languageId": "javascript"
    }
   },
   "outputs": [],
   "source": [
    "%%javascript\n",
    "let lives = 3; // Decrease when a mole is missed\n",
    "let missed = true; // Change to true if player misses a mole\n",
    "\n",
    "// TODO: decrease lives when a mole is missed\n",
    "if (missed) {\n",
    "    lives -= 1;\n",
    "}\n",
    "\n",
    "if (lives === 0) {\n",
    "    console.log(\"Game Over!\");\n",
    "} else {\n",
    "    console.log(\"Keep playing! Lives left: \" + lives);\n",
    "}"
   ]
  },
  {
   "cell_type": "markdown",
   "id": "92c02232",
   "metadata": {},
   "source": [
    "## Challenge 3: High Score Boost\n",
    "\n",
    "If the player’s score reaches 10 or more, give them a bonus of +5 points.\n"
   ]
  },
  {
   "cell_type": "code",
   "execution_count": null,
   "id": "e11dd74a",
   "metadata": {
    "vscode": {
     "languageId": "javascript"
    }
   },
   "outputs": [],
   "source": [
    "%%javascript\n",
    "let lives = 3; // Starting number of lives\n",
    "let missed = true; // Whether the player missed the mole\n",
    "\n",
    "if (missed) {\n",
    "    lives -= 1; // Subtract one life if missed\n",
    "}\n",
    "\n",
    "if (lives === 0) {\n",
    "    console.log(\"Game Over!\"); // If no lives left\n",
    "} else {\n",
    "    console.log(\"Keep playing! Lives left: \" + lives); // Show remaining lives\n",
    "}"
   ]
  },
  {
   "cell_type": "markdown",
   "id": "d8499647",
   "metadata": {},
   "source": [
    "## Challenge 4: Bonus Mole Condition\n",
    "\n",
    "A golden mole should only give a bonus if both goldenMole and hit are true. Fix the condition.\n"
   ]
  },
  {
   "cell_type": "code",
   "execution_count": null,
   "id": "a23b7e64",
   "metadata": {
    "vscode": {
     "languageId": "javascript"
    }
   },
   "outputs": [],
   "source": [
    "%%javascript\n",
    "let lives = 3;           // Player starts with 3 lives\n",
    "let missed = true;       // True if player missed a mole\n",
    "let hit = true;          // True if player hit a mole\n",
    "let goldenMole = true;   // True if the mole was golden\n",
    "\n",
    "// Bonus only if BOTH goldenMole AND hit are true\n",
    "if (goldenMole && hit) {\n",
    "    console.log(\"Bonus!\");\n",
    "} else {\n",
    "    console.log(\"No bonus.\");\n",
    "}\n",
    "\n",
    "// Decrease lives only if the player missed\n",
    "if (missed) {\n",
    "    lives -= 1;\n",
    "}\n",
    "\n",
    "if (lives === 0) {\n",
    "    console.log(\"Game Over!\");\n",
    "} else {\n",
    "    console.log(\"Keep playing! Lives left: \" + lives);\n",
    "}"
   ]
  }
 ],
 "metadata": {
  "language_info": {
   "name": "python"
  }
 },
 "nbformat": 4,
 "nbformat_minor": 5
}
