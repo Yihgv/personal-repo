{
 "cells": [
  {
   "cell_type": "raw",
   "id": "6676fbba",
   "metadata": {
    "vscode": {
     "languageId": "raw"
    }
   },
   "source": [
    "---\n",
    "layout: post\n",
    "title: Lists Hacks Python\n",
    "description: This is a CSP Hacks notebook based on the lists lesson\n",
    "comments: true\n",
    "permalink: /csp/big-idea-3/<lists>/<4>/python_hw\n",
    "---"
   ]
  },
  {
   "cell_type": "markdown",
   "id": "b52a2664",
   "metadata": {},
   "source": [
    "# Python Lists Homework\n"
   ]
  },
  {
   "cell_type": "markdown",
   "id": "b85e23b6",
   "metadata": {},
   "source": [
    "- After going through the lists lesson work on these hacks in your own repository\n"
   ]
  },
  {
   "cell_type": "markdown",
   "id": "0eef752c",
   "metadata": {},
   "source": [
    "### Hack 1 – Add Up Numbers\n",
    "\n",
    "Make a list of numbers. Write code to:\n",
    "\n",
    "1. Find the total sum.\n",
    "2. Find the average.\n"
   ]
  },
  {
   "cell_type": "code",
   "execution_count": null,
   "id": "9eb9fc42",
   "metadata": {},
   "outputs": [],
   "source": [
    "# Hack 1 – Add Up Numbers\n",
    "numbers = [4, 7, 1, 9, 6, 7, 10]\n",
    "\n",
    "# 1️⃣ Find the total sum\n",
    "total_sum = sum(numbers)\n",
    "print(\"Total sum:\", total_sum)\n",
    "\n",
    "# 2️⃣ Find the average\n",
    "average = total_sum / len(numbers)\n",
    "print(\"Average:\", average)\n"
   ]
  },
  {
   "cell_type": "markdown",
   "id": "46f14089",
   "metadata": {},
   "source": [
    "### Hack 2 – Count Repeats\n",
    "\n",
    "Make a list with repeated items. Write code to count how many times each item appears.\n"
   ]
  },
  {
   "cell_type": "code",
   "execution_count": null,
   "id": "c8224c2e",
   "metadata": {},
   "outputs": [],
   "source": [
    "# Hack 2 – Count Repeats\n",
    "items = [\"cat\", \"dog\", \"cat\", \"bird\", \"bird\", \"bird\"]\n",
    "\n",
    "# Create a dictionary to store counts\n",
    "counts = {}\n",
    "\n",
    "# Loop through each item\n",
    "for item in items:\n",
    "    if item in counts:\n",
    "        counts[item] += 1  # Increment existing count\n",
    "    else:\n",
    "        counts[item] = 1   # Initialize count\n",
    "\n",
    "# Display the results\n",
    "print(\"Item counts:\")\n",
    "for key, value in counts.items():\n",
    "    print(f\"{key}: {value}\")\n"
   ]
  },
  {
   "cell_type": "markdown",
   "id": "714f85a7",
   "metadata": {},
   "source": [
    "### Hack 3 – Keep Only Evens\n",
    "\n",
    "Make a list of numbers. Write code to create a new list with only even numbers.\n"
   ]
  },
  {
   "cell_type": "code",
   "execution_count": null,
   "id": "a9e5c292",
   "metadata": {},
   "outputs": [],
   "source": [
    "# Hack 3 – Keep Only Evens\n",
    "numbers = [3, 8, 5, 12, 7, 9, 13, 31, 66, 18]\n",
    "\n",
    "# Create a new list for even numbers\n",
    "evens = []\n",
    "\n",
    "# Loop through the numbers and check for even\n",
    "for num in numbers:\n",
    "    if num % 2 == 0:\n",
    "        evens.append(num)\n",
    "\n",
    "# Display the results\n",
    "print(\"Even numbers:\", evens)\n"
   ]
  }
 ],
 "metadata": {
  "language_info": {
   "name": "python"
  }
 },
 "nbformat": 4,
 "nbformat_minor": 5
}
