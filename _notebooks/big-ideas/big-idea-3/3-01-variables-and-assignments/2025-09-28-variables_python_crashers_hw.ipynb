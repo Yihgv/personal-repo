{
 "cells": [
  {
   "cell_type": "raw",
   "id": "f8d46d8e",
   "metadata": {
    "vscode": {
     "languageId": "raw"
    }
   },
   "source": [
    "---\n",
    "layout: post\n",
    "title: \"3.1 Variables & Assignments hacks - Python\"\n",
    "categories: [Programming Fundamentals, Tutorial]\n",
    "tags: [python, variables, assignment, beginner]\n",
    "description: Apply your understanding of Variables & Assignments with these Python hacks\n",
    "permalink: /python/variables/crashers-hw\n",
    "author: Aditya Srivastava\n",
    "---"
   ]
  },
  {
   "cell_type": "markdown",
   "id": "e48e5dfd",
   "metadata": {},
   "source": [
    "# 🐷 Peppa Maze Variables & Assignments Hacks (Python)\n",
    "\n",
    "Welcome to the Peppa Maze hacks! These challenges will test your understanding of variables, assignments, and logic in Python. Read each task, then write or modify code to solve it.\n"
   ]
  },
  {
   "cell_type": "markdown",
   "id": "7333747d",
   "metadata": {},
   "source": [
    "## Hack 1: Python - Variable Assignment, Naming, and Operators\n",
    "\n",
    "Create variables for Peppa's name, score, and level using good Python naming conventions. Assign initial values, then use operators to update score (add 10) and level (multiply by 2). Print all results.\n"
   ]
  },
  {
   "cell_type": "code",
   "execution_count": 1,
   "id": "febf933f",
   "metadata": {},
   "outputs": [
    {
     "name": "stdout",
     "output_type": "stream",
     "text": [
      "Player Name: Peppa\n",
      "Updated Score: 60\n",
      "Updated Level: 2\n"
     ]
    }
   ],
   "source": [
    "player_name = \"Peppa\"\n",
    "player_score = 50\n",
    "player_level = 1\n",
    "\n",
    "player_score += 10\n",
    "player_level *= 2\n",
    "\n",
    "print(\"Player Name:\", player_name)\n",
    "print(\"Updated Score:\", player_score)\n",
    "print(\"Updated Level:\", player_level)\n"
   ]
  },
  {
   "cell_type": "markdown",
   "id": "a3133f05",
   "metadata": {},
   "source": [
    "## Hack 2: Python - Variable Declaration, Assignment, and Operators\n",
    "\n",
    "Declare variables for Peppa and George's scores using good Python naming conventions. Assign initial values, then use operators to update both scores (e.g., Peppa gets 15 points, George loses 5 points). Print both scores.\n"
   ]
  },
  {
   "cell_type": "code",
   "execution_count": 2,
   "id": "d8501a2d",
   "metadata": {},
   "outputs": [
    {
     "name": "stdout",
     "output_type": "stream",
     "text": [
      "Peppa's Score: 45\n",
      "George's Score: 20\n"
     ]
    }
   ],
   "source": [
    "peppa_score = 30\n",
    "george_score = 25\n",
    "\n",
    "peppa_score += 15    # Peppa earns 15 points\n",
    "george_score -= 5    # George loses 5 points\n",
    "\n",
    "print(\"Peppa's Score:\", peppa_score)\n",
    "print(\"George's Score:\", george_score)\n"
   ]
  },
  {
   "cell_type": "markdown",
   "id": "f248c523",
   "metadata": {},
   "source": [
    "## Hack 3: Python - Multiple Assignment and Math Operators\n",
    "\n",
    "Peppa and George both start at level 1. Use Python's multiple assignment feature to assign both their levels to 5 in one line. Then, calculate a combined score by multiplying their levels together and multiplying by 10. Print all results.\n"
   ]
  },
  {
   "cell_type": "code",
   "execution_count": 3,
   "id": "bfd55c97",
   "metadata": {},
   "outputs": [
    {
     "name": "stdout",
     "output_type": "stream",
     "text": [
      "Peppa's Level: 5\n",
      "George's Level: 5\n",
      "Combined Score: 250\n"
     ]
    }
   ],
   "source": [
    "peppa_level = george_level = 5\n",
    "\n",
    "combined_score = (peppa_level * george_level) * 10\n",
    "\n",
    "print(\"Peppa's Level:\", peppa_level)\n",
    "print(\"George's Level:\", george_level)\n",
    "print(\"Combined Score:\", combined_score)"
   ]
  }
 ],
 "metadata": {
  "kernelspec": {
   "display_name": "venv",
   "language": "python",
   "name": "python3"
  },
  "language_info": {
   "name": "python",
   "version": "3.9.6"
  }
 },
 "nbformat": 4,
 "nbformat_minor": 5
}
