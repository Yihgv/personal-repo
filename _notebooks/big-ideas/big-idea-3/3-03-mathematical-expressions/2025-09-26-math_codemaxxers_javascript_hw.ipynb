{
 "cells": [
  {
   "cell_type": "raw",
   "id": "6290bcd2",
   "metadata": {
    "vscode": {
     "languageId": "raw"
    }
   },
   "source": [
    "---\n",
    "title: \"Mathematical Operations in Javascript and Python - Hacks\"\n",
    "description: \"Apply your skills of math, logic, and coding.\"\n",
    "layout: post\n",
    "permalink: /javascript/mathematical-expressions/codemaxxers-hw\n",
    "---"
   ]
  },
  {
   "cell_type": "markdown",
   "id": "d98b569e",
   "metadata": {},
   "source": [
    "# Basic Algebraic Math hacks\n",
    "\n",
    "## Q1 (Exponents):\n",
    "\n",
    "### A cube has a side length of 6 units. What is its volume?\n"
   ]
  },
  {
   "cell_type": "code",
   "execution_count": 1,
   "id": "235ceb13",
   "metadata": {
    "vscode": {
     "languageId": "javascript"
    }
   },
   "outputs": [
    {
     "data": {
      "text/plain": [
       "216"
      ]
     },
     "execution_count": 1,
     "metadata": {},
     "output_type": "execute_result"
    }
   ],
   "source": [
    "216"
   ]
  },
  {
   "cell_type": "markdown",
   "id": "3fb1dd4d",
   "metadata": {},
   "source": [
    "## Q2 (PEMDAS):\n",
    "\n",
    "### Evaluate the expression:\n",
    "\n",
    "(7+14)\\*5/12 + 2\n"
   ]
  },
  {
   "cell_type": "code",
   "execution_count": 2,
   "id": "49d712a3",
   "metadata": {
    "vscode": {
     "languageId": "javascript"
    }
   },
   "outputs": [
    {
     "data": {
      "text/plain": [
       "10.75"
      ]
     },
     "execution_count": 2,
     "metadata": {},
     "output_type": "execute_result"
    }
   ],
   "source": [
    "10.75"
   ]
  },
  {
   "cell_type": "markdown",
   "id": "fcaa4762",
   "metadata": {},
   "source": [
    "## Q3 (Algorithm):\n",
    "\n",
    "Write JavaScript code where you define variables and run commands that find the values of operations you apply onto them\n"
   ]
  },
  {
   "cell_type": "code",
   "execution_count": 3,
   "id": "0a2081a9",
   "metadata": {
    "vscode": {
     "languageId": "javascript"
    }
   },
   "outputs": [
    {
     "data": {
      "application/javascript": "// Define initial variables\nlet num1 = 10;\nlet num2 = 5;\nlet num3 = 2;\n\nlet sum = num1 + num2;          \nlet difference = num1 - num2;   \nlet product = num2 * num3;     \nlet quotient = num1 / num3;     \nlet combined = (num1 + num2) * num3 - num2; \n\n// Output the results\nconsole.log(\"Sum:\", sum);                 \nconsole.log(\"Difference:\", difference);   \nconsole.log(\"Product:\", product);        \nconsole.log(\"Quotient:\", quotient);       \nconsole.log(\"Combined Operation:\", combined); // (10+5)*2 - 5 = 25\n",
      "text/plain": [
       "<IPython.core.display.Javascript object>"
      ]
     },
     "metadata": {},
     "output_type": "display_data"
    }
   ],
   "source": [
    "%%javascript\n",
    "// Define initial variables\n",
    "let num1 = 10;\n",
    "let num2 = 5;\n",
    "let num3 = 2;\n",
    "\n",
    "let sum = num1 + num2;          \n",
    "let difference = num1 - num2;   \n",
    "let product = num2 * num3;     \n",
    "let quotient = num1 / num3;     \n",
    "let combined = (num1 + num2) * num3 - num2; \n",
    "\n",
    "// Output the results\n",
    "console.log(\"Sum:\", sum);                 \n",
    "console.log(\"Difference:\", difference);   \n",
    "console.log(\"Product:\", product);        \n",
    "console.log(\"Quotient:\", quotient);       \n",
    "console.log(\"Combined Operation:\", combined); // (10+5)*2 - 5 = 25\n"
   ]
  },
  {
   "cell_type": "markdown",
   "id": "7927eeac",
   "metadata": {},
   "source": [
    "<img src=\"/images/3_3diagram.png\" alt=\"Diagram showing mathematical operations\" style=\"max-width:300px; margin:10px;\">\n"
   ]
  }
 ],
 "metadata": {
  "kernelspec": {
   "display_name": "venv",
   "language": "python",
   "name": "python3"
  },
  "language_info": {
   "codemirror_mode": {
    "name": "ipython",
    "version": 3
   },
   "file_extension": ".py",
   "mimetype": "text/x-python",
   "name": "python",
   "nbconvert_exporter": "python",
   "pygments_lexer": "ipython3",
   "version": "3.9.6"
  }
 },
 "nbformat": 4,
 "nbformat_minor": 5
}
