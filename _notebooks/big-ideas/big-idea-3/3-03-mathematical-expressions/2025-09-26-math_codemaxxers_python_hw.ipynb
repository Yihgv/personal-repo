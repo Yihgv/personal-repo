{
 "cells": [
  {
   "cell_type": "raw",
   "id": "6290bcd2",
   "metadata": {
    "vscode": {
     "languageId": "raw"
    }
   },
   "source": [
    "---\n",
    "title: \"Mathematical Operations in Javascript and Python - Hacks\"\n",
    "description: \"Apply your skills of math, logic, and coding.\"\n",
    "layout: post\n",
    "permalink: /javascript/mathematical-expressions/codemaxxers-hw\n",
    "---"
   ]
  },
  {
   "cell_type": "markdown",
   "id": "d98b569e",
   "metadata": {},
   "source": [
    "# Basic Algebraic Math hacks\n",
    "\n",
    "## Q1 (Exponents):\n",
    "\n",
    "### A cube has a side length of 4 units. What is its volume?\n"
   ]
  },
  {
   "cell_type": "code",
   "execution_count": null,
   "id": "235ceb13",
   "metadata": {},
   "outputs": [],
   "source": [
    "64 "
   ]
  },
  {
   "cell_type": "markdown",
   "id": "3fb1dd4d",
   "metadata": {},
   "source": [
    "## Q2 (PEMDAS):\n",
    "\n",
    "### Evaluate the expression:\n",
    "\n",
    "(12+8)/2+(3^2)\n"
   ]
  },
  {
   "cell_type": "code",
   "execution_count": null,
   "id": "49d712a3",
   "metadata": {},
   "outputs": [],
   "source": [
    "1.8182"
   ]
  },
  {
   "cell_type": "markdown",
   "id": "fcaa4762",
   "metadata": {},
   "source": [
    "## Q3 (Algorithm):\n",
    "\n",
    "Write Python code where you define variables and run commands that find the values of operations you apply onto them\n"
   ]
  },
  {
   "cell_type": "code",
   "execution_count": null,
   "id": "0a2081a9",
   "metadata": {},
   "outputs": [],
   "source": [
    "# Define numeric variables\n",
    "a = 10\n",
    "b = 3\n",
    "\n",
    "# Perform arithmetic operations\n",
    "sum_result = a + b\n",
    "difference = a - b\n",
    "product = a * b\n",
    "quotient = a / b\n",
    "remainder = a % b\n",
    "power = a ** b\n",
    "\n",
    "# Print results\n",
    "print(\"Addition:\", sum_result)\n",
    "print(\"Subtraction:\", difference)\n",
    "print(\"Multiplication:\", product)\n",
    "print(\"Division:\", quotient)\n",
    "print(\"Remainder (modulo):\", remainder)\n",
    "print(\"Exponentiation:\", power)\n",
    "\n",
    "# Define string variables\n",
    "first_name = \"Ada\"\n",
    "last_name = \"Lovelace\"\n",
    "\n",
    "# String operations\n",
    "full_name = first_name + \" \" + last_name\n",
    "uppercase_name = full_name.upper()\n",
    "name_length = len(full_name)\n",
    "\n",
    "# Print string results\n",
    "print(\"Full name:\", full_name)\n",
    "print(\"Uppercase:\", uppercase_name)\n",
    "print(\"Length of full name:\", name_length)\n",
    "\n",
    "# Boolean logic\n",
    "is_greater = a > b\n",
    "is_equal = a == b\n",
    "\n",
    "print(\"Is a greater than b?\", is_greater)\n",
    "print(\"Is a equal to b?\", is_equal)\n"
   ]
  },
  {
   "cell_type": "markdown",
   "id": "40a2f9a8",
   "metadata": {},
   "source": [
    "<img src=\"/images/3_3diagram.png\" alt=\"Diagram showing mathematical operations\" style=\"max-width:300px; margin:10px;\">\n"
   ]
  }
 ],
 "metadata": {
  "kernelspec": {
   "display_name": "venv",
   "language": "python",
   "name": "python3"
  },
  "language_info": {
   "codemirror_mode": {
    "name": "ipython",
    "version": 3
   },
   "file_extension": ".py",
   "mimetype": "text/x-python",
   "name": "python",
   "nbconvert_exporter": "python",
   "pygments_lexer": "ipython3",
   "version": "3.12.3"
  }
 },
 "nbformat": 4,
 "nbformat_minor": 5
}
