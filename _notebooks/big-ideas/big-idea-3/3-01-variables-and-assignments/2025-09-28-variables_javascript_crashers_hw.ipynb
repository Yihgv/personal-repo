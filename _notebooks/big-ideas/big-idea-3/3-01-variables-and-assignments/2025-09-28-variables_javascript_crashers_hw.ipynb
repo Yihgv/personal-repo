{
 "cells": [
  {
   "cell_type": "raw",
   "id": "f7d70aa2",
   "metadata": {
    "vscode": {
     "languageId": "raw"
    }
   },
   "source": [
    "---\n",
    "layout: post\n",
    "title: \"3.1 Variables & Assignments hacks\"\n",
    "categories: [Programming Fundamentals, Tutorial]\n",
    "tags: [python, javascript, variables, assignment, beginner]\n",
    "description: Apply your understanding of Variables & Assignments with these hacks\n",
    "author: Aditya Srivastava, Laya Balaji\n",
    "permalink: /javascript/variables/crashers-hw\n",
    "---"
   ]
  },
  {
   "cell_type": "markdown",
   "id": "ce56910b",
   "metadata": {},
   "source": [
    "# 🐷 Peppa Maze Variables & Assignments Hacks\n",
    "\n",
    "Welcome to the Peppa Maze hacks! These challenges will test your understanding of variables, assignments, and logic in Javascript. Read each task, then write or modify code to solve it.\n"
   ]
  },
  {
   "cell_type": "markdown",
   "id": "7dee3bb5",
   "metadata": {},
   "source": [
    "## Hack 1: JavaScript - Variable Assignment, Naming, and Operators\n",
    "\n",
    "Create variables for Peppa's name, score, and level using good JavaScript naming conventions. Assign initial values, then use operators to update score (add 10) and level (multiply by 2). Print all results.\n"
   ]
  },
  {
   "cell_type": "code",
   "execution_count": 1,
   "id": "e4bee113",
   "metadata": {
    "vscode": {
     "languageId": "javascript"
    }
   },
   "outputs": [
    {
     "data": {
      "application/javascript": "\nlet peppaName = \"Peppa\";\nlet peppaScore = 0;\nlet peppaLevel = 1;\n\npeppaScore += 10;\n\npeppaLevel *= 2;\n\nconsole.log(\"Name:\", peppaName);\nconsole.log(\"Score:\", peppaScore);\nconsole.log(\"Level:\", peppaLevel);\n",
      "text/plain": [
       "<IPython.core.display.Javascript object>"
      ]
     },
     "metadata": {},
     "output_type": "display_data"
    }
   ],
   "source": [
    "%%javascript\n",
    "\n",
    "let peppaName = \"Peppa\";\n",
    "let peppaScore = 0;\n",
    "let peppaLevel = 1;\n",
    "\n",
    "peppaScore += 10;\n",
    "\n",
    "peppaLevel *= 2;\n",
    "\n",
    "console.log(\"Name:\", peppaName);\n",
    "console.log(\"Score:\", peppaScore);\n",
    "console.log(\"Level:\", peppaLevel);\n"
   ]
  },
  {
   "cell_type": "markdown",
   "id": "3f8a5cbe",
   "metadata": {},
   "source": [
    "## Hack 2: JavaScript - Variable Declaration, Assignment, and Operators\n",
    "\n",
    "Declare variables for Peppa and George's scores using good JavaScript naming conventions. Assign initial values, then use operators to update both scores (e.g., Peppa gets 15 points, George loses 5 points). Print both scores.\n"
   ]
  },
  {
   "cell_type": "code",
   "execution_count": null,
   "id": "c4c80df3",
   "metadata": {
    "vscode": {
     "languageId": "javascript"
    }
   },
   "outputs": [],
   "source": [
    "%%javascript\n",
    "\n",
    "let peppaScore = 0;\n",
    "let georgeScore = 0;\n",
    "\n",
    "peppaScore += 15;   \n",
    "georgeScore -= 5;   \n",
    "\n",
    "console.log(\"Peppa's score:\", peppaScore);\n",
    "console.log(\"George's score:\", georgeScore);\n"
   ]
  },
  {
   "cell_type": "markdown",
   "id": "30580c24",
   "metadata": {},
   "source": [
    "## Hack 3: JavaScript - Multiple Assignment and Math Operators\n",
    "\n",
    "Peppa and George both start at level 1. Use a single line to assign both their levels to 5. Then, calculate a combined score by multiplying their levels together and multiplying by 10. Print all results.\n"
   ]
  },
  {
   "cell_type": "code",
   "execution_count": null,
   "id": "67774ff3",
   "metadata": {
    "vscode": {
     "languageId": "javascript"
    }
   },
   "outputs": [],
   "source": [
    "%%javascript\n",
    "\n",
    "let peppaLevel = georgeLevel = 5;\n",
    "\n",
    "let combinedScore = peppaLevel * georgeLevel * 10;\n",
    "\n",
    "console.log(\"Peppa's level:\", peppaLevel);\n",
    "console.log(\"George's level:\", georgeLevel);\n",
    "console.log(\"Combined score:\", combinedScore);\n"
   ]
  }
 ],
 "metadata": {
  "kernelspec": {
   "display_name": "venv",
   "language": "python",
   "name": "python3"
  },
  "language_info": {
   "name": "python",
   "version": "3.9.6"
  }
 },
 "nbformat": 4,
 "nbformat_minor": 5
}
